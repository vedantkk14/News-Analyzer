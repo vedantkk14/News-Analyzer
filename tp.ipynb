{
 "cells": [
  {
   "cell_type": "markdown",
   "id": "957729ad",
   "metadata": {},
   "source": [
    "## This is Summary Page..."
   ]
  },
  {
   "cell_type": "code",
   "execution_count": 1,
   "id": "90dbe638",
   "metadata": {},
   "outputs": [
    {
     "name": "stdout",
     "output_type": "stream",
     "text": [
      "Hello, I am chonya\n"
     ]
    }
   ],
   "source": [
    "print(\"Hello, I am chonya\")"
   ]
  }
 ],
 "metadata": {
  "kernelspec": {
   "display_name": "base",
   "language": "python",
   "name": "python3"
  },
  "language_info": {
   "codemirror_mode": {
    "name": "ipython",
    "version": 3
   },
   "file_extension": ".py",
   "mimetype": "text/x-python",
   "name": "python",
   "nbconvert_exporter": "python",
   "pygments_lexer": "ipython3",
   "version": "3.13.5"
  }
 },
 "nbformat": 4,
 "nbformat_minor": 5
}

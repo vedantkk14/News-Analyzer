{
 "cells": [
  {
   "cell_type": "code",
   "execution_count": 2,
   "id": "720b4c66",
   "metadata": {},
   "outputs": [],
   "source": [
    "import warnings\n",
    "warnings.filterwarnings('ignore')"
   ]
  },
  {
   "cell_type": "code",
   "execution_count": 3,
   "id": "5de8c60f",
   "metadata": {},
   "outputs": [
    {
     "name": "stdout",
     "output_type": "stream",
     "text": [
      "Python 3.10.18\n"
     ]
    }
   ],
   "source": [
    "!python --version"
   ]
  },
  {
   "cell_type": "code",
   "execution_count": 1,
   "id": "d09a2133",
   "metadata": {},
   "outputs": [
    {
     "name": "stdout",
     "output_type": "stream",
     "text": [
      "c:\\Users\\User\\anaconda3\\envs\\myenv_tf\n",
      "c:\\Users\\User\\anaconda3\\envs\\myenv_tf\n"
     ]
    }
   ],
   "source": [
    "import sys\n",
    "print(sys.prefix)\n",
    "print(sys.base_prefix)"
   ]
  },
  {
   "cell_type": "code",
   "execution_count": null,
   "id": "c885b5a5",
   "metadata": {},
   "outputs": [],
   "source": []
  },
  {
   "cell_type": "code",
   "execution_count": 4,
   "id": "73ad58ac",
   "metadata": {},
   "outputs": [
    {
     "name": "stderr",
     "output_type": "stream",
     "text": [
      "Some weights of PegasusForConditionalGeneration were not initialized from the model checkpoint at google/pegasus-xsum and are newly initialized: ['model.decoder.embed_positions.weight', 'model.encoder.embed_positions.weight']\n",
      "You should probably TRAIN this model on a down-stream task to be able to use it for predictions and inference.\n",
      "Device set to use cpu\n"
     ]
    }
   ],
   "source": [
    "from transformers import pipeline\n",
    "\n",
    "# Load summarizer pipeline\n",
    "summarizer = pipeline(\"summarization\", model=\"google/pegasus-xsum\")\n",
    "\n",
    "def summarize_news(text):\n",
    "    summary = summarizer(text, max_length=60, min_length=10, do_sample=False)\n",
    "    return summary[0]['summary_text']\n"
   ]
  },
  {
   "cell_type": "code",
   "execution_count": 5,
   "id": "73c675cb",
   "metadata": {},
   "outputs": [
    {
     "data": {
      "text/plain": [
       "\"It's been 10 years since the first Initial Public Offering (IPO) in the crypto sector.\""
      ]
     },
     "execution_count": 5,
     "metadata": {},
     "output_type": "execute_result"
    }
   ],
   "source": [
    "news = \"On August 13, 2025, the cryptocurrency exchange operator Bullish debuted on the New York Stock Exchange, opening at $90—an astonishing 143% above its IPO price of $37. The company raised $1.11 billion, significantly outperforming its initial target range of $28–31 per share. Led by former NYSE president Tom Farley and owning CoinDesk, Bullish's successful launch marks a renewed investor interest in crypto-sector IPOs.\"\n",
    "summarize_news(news)"
   ]
  },
  {
   "cell_type": "code",
   "execution_count": 7,
   "id": "c4166c41",
   "metadata": {},
   "outputs": [
    {
     "name": "stdout",
     "output_type": "stream",
     "text": [
      "Loading model from ./models/pegasus-xsum...\n"
     ]
    },
    {
     "name": "stderr",
     "output_type": "stream",
     "text": [
      "Device set to use cpu\n"
     ]
    },
    {
     "name": "stdout",
     "output_type": "stream",
     "text": [
      "Local model loaded successfully!\n",
      "Summary: India's space agency, the Indian Space Research Organisation (Isro), has successfully landed its spacecraft on the Moon.\n"
     ]
    }
   ],
   "source": [
    "from transformers import pipeline, AutoTokenizer, AutoModelForSeq2SeqLM\n",
    "import os\n",
    "\n",
    "class LocalNewsSummarizer:\n",
    "    def __init__(self, model_name=\"google/pegasus-xsum\", local_path=\"./models/pegasus-xsum\"):\n",
    "        self.model_name = model_name\n",
    "        self.local_path = local_path\n",
    "        self.summarizer = None\n",
    "        \n",
    "        # Create models directory if it doesn't exist\n",
    "        os.makedirs(os.path.dirname(local_path), exist_ok=True)\n",
    "        \n",
    "        self._load_or_download_model()\n",
    "    \n",
    "    def _load_or_download_model(self):\n",
    "        if os.path.exists(self.local_path):\n",
    "            print(f\"Loading model from {self.local_path}...\")\n",
    "            self.summarizer = pipeline(\"summarization\", model=self.local_path)\n",
    "            print(\"Local model loaded successfully!\")\n",
    "        else:\n",
    "            print(f\"Local model not found. Downloading {self.model_name}...\")\n",
    "            self._download_and_save_model()\n",
    "            self.summarizer = pipeline(\"summarization\", model=self.local_path)\n",
    "            print(\"Model downloaded and loaded!\")\n",
    "    \n",
    "    def _download_and_save_model(self):\n",
    "        # Download tokenizer and model\n",
    "        tokenizer = AutoTokenizer.from_pretrained(self.model_name)\n",
    "        model = AutoModelForSeq2SeqLM.from_pretrained(self.model_name)\n",
    "        \n",
    "        # Save to local directory\n",
    "        tokenizer.save_pretrained(self.local_path)\n",
    "        model.save_pretrained(self.local_path)\n",
    "        print(f\"Model saved to {self.local_path}\")\n",
    "    \n",
    "    def summarize(self, text):\n",
    "        if self.summarizer is None:\n",
    "            raise ValueError(\"Model not loaded!\")\n",
    "        \n",
    "        summary = self.summarizer(text, max_length=60, min_length=10, do_sample=False)\n",
    "        return summary[0]['summary_text']\n",
    "\n",
    "# Usage\n",
    "summarizer = LocalNewsSummarizer()\n",
    "news_text = \"\"\"\n",
    "India on Saturday became the first country to successfully land a spacecraft near the Moon's south pole. \n",
    "The Chandrayaan-3 mission marks a major milestone in India's space exploration program, \n",
    "opening up new opportunities for scientific research and potential resource utilization. \n",
    "Prime Minister Narendra Modi congratulated the scientists and hailed it as a historic moment.\n",
    "\"\"\"\n",
    "\n",
    "summary = summarizer.summarize(news_text)\n",
    "print(\"Summary:\", summary)"
   ]
  }
 ],
 "metadata": {
  "kernelspec": {
   "display_name": "myenv_tf",
   "language": "python",
   "name": "python3"
  },
  "language_info": {
   "codemirror_mode": {
    "name": "ipython",
    "version": 3
   },
   "file_extension": ".py",
   "mimetype": "text/x-python",
   "name": "python",
   "nbconvert_exporter": "python",
   "pygments_lexer": "ipython3",
   "version": "3.10.18"
  }
 },
 "nbformat": 4,
 "nbformat_minor": 5
}
